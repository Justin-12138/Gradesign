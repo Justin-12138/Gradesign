{
 "cells": [
  {
   "cell_type": "markdown",
   "source": [
    "# This is a Tutorial for Basic things."
   ],
   "metadata": {
    "collapsed": false
   },
   "id": "8a4c10d92aef6332"
  },
  {
   "cell_type": "markdown",
   "source": [],
   "metadata": {
    "collapsed": false
   },
   "id": "eb52e63f22f1a6b9"
  },
  {
   "cell_type": "markdown",
   "source": [
    "#### 0.pipreqs\n",
    "+ ***USE Virtualenv Environment(Mandatory)***\n",
    "    pip install pipreqs -i https://pypi.douban.com/simple\n",
    "imported some packages like pandas,numpy\n",
    "+ pipreqs ./ --force\n",
    "  pipreqs C:\\Users\\justin\\PycharmProjects\\flas --encoding=utf-8 --force\n"
   ],
   "metadata": {
    "collapsed": false
   },
   "id": "7313a3e496addca9"
  },
  {
   "cell_type": "markdown",
   "source": [
    "#### 0-1.install reqs.txt\n",
    "+ pip install -r requirements.txt -i https://pypi.douban.com/simple\n",
    "                                     https://pypi.tuna.tsinghua.edu.cn/simple"
   ],
   "metadata": {
    "collapsed": false
   },
   "id": "380d4b65296c5ca9"
  },
  {
   "cell_type": "markdown",
   "source": [
    "#### 1.How to data analyse?"
   ],
   "metadata": {
    "collapsed": false
   },
   "id": "6890720165258337"
  },
  {
   "cell_type": "markdown",
   "source": [
    "+ split the data"
   ],
   "metadata": {
    "collapsed": false
   },
   "id": "743176568993e7bf"
  },
  {
   "cell_type": "code",
   "execution_count": 45,
   "outputs": [],
   "source": [
    "import numpy as np\n",
    "import pandas as pd\n",
    "import matplotlib.pyplot as plt"
   ],
   "metadata": {
    "collapsed": false,
    "ExecuteTime": {
     "end_time": "2023-11-05T03:17:06.466952695Z",
     "start_time": "2023-11-05T03:17:06.422778226Z"
    }
   },
   "id": "ae015d19859da8d5"
  },
  {
   "cell_type": "code",
   "execution_count": 41,
   "outputs": [
    {
     "data": {
      "text/plain": "(480, 64)"
     },
     "execution_count": 41,
     "metadata": {},
     "output_type": "execute_result"
    }
   ],
   "source": [
    "data=pd.read_csv(\"../data/example_data.csv\")\n",
    "data.shape"
   ],
   "metadata": {
    "collapsed": false,
    "ExecuteTime": {
     "end_time": "2023-11-05T03:12:35.979059877Z",
     "start_time": "2023-11-05T03:12:35.936040274Z"
    }
   },
   "id": "133fade8a469f2aa"
  },
  {
   "cell_type": "code",
   "execution_count": 69,
   "outputs": [
    {
     "data": {
      "text/plain": "array([[ 0.405002, -0.180041,  0.090213, ..., -0.485748,  0.58909 ,\n        -0.127429],\n       [ 1.459735, -1.467144, -0.882176, ..., -1.2367  , -2.916914,\n        -0.255764],\n       [ 0.824   , -0.065657, -0.534716, ..., -1.019599,  0.718773,\n         0.04633 ],\n       ...,\n       [-1.407031, -0.764988,  0.9705  , ...,  0.048924,  4.128239,\n        -3.356069],\n       [-1.414673, -0.008593,  0.837636, ..., -0.232435,  0.142937,\n         0.397098],\n       [ 0.007104, -1.547289,  1.367811, ..., -0.166838,  0.132967,\n         0.984025]])"
     },
     "execution_count": 69,
     "metadata": {},
     "output_type": "execute_result"
    }
   ],
   "source": [
    "# top n col\n",
    "# .iloc[:,:n]\n",
    "x=data.iloc[:,:data.shape[1]-1].values\n",
    "x"
   ],
   "metadata": {
    "collapsed": false,
    "ExecuteTime": {
     "end_time": "2023-11-05T03:38:46.778947794Z",
     "start_time": "2023-11-05T03:38:46.773101288Z"
    }
   },
   "id": "1f807824940f92bb"
  },
  {
   "cell_type": "code",
   "execution_count": null,
   "outputs": [],
   "source": [
    "y=data.iloc[:,-1]\n",
    "y=list(y)\n",
    "li_0=[]\n",
    "li_1=[]\n",
    "for i in y:\n",
    "    if i==0:\n",
    "      li_0.append(i)\n",
    "    else:\n",
    "        li_1.append(i)\n",
    "# 创建一个数据字典\n",
    "da= {'label': [0, 1], 'num': [len(li_0), len(li_1)]}\n",
    "\n",
    "# 将字典转换为DataFrame\n",
    "df = pd.DataFrame(da)\n",
    "\n",
    "# 创建柱状图\n",
    "ax = df.plot(kind='bar', x='label', y='num', title='label details')\n",
    "for p in ax.patches:\n",
    "    ax.annotate(str(p.get_height()), (p.get_x() * 1.005, p.get_height() * 1.005))\n",
    "# 显示图形\n",
    "plt.show()\n",
    "\n"
   ],
   "metadata": {
    "collapsed": false,
    "is_executing": true
   },
   "id": "d0b0d93720d07343"
  },
  {
   "cell_type": "code",
   "execution_count": 43,
   "outputs": [],
   "source": [],
   "metadata": {
    "collapsed": false,
    "ExecuteTime": {
     "end_time": "2023-11-05T03:16:34.262448956Z",
     "start_time": "2023-11-05T03:16:34.219813890Z"
    }
   },
   "id": "ce5f3be4475e84e4"
  },
  {
   "cell_type": "code",
   "execution_count": 39,
   "outputs": [],
   "source": [],
   "metadata": {
    "collapsed": false,
    "ExecuteTime": {
     "end_time": "2023-11-05T03:05:44.330704241Z",
     "start_time": "2023-11-05T03:05:44.287320223Z"
    }
   },
   "id": "d3d074ddca50c80e"
  },
  {
   "cell_type": "code",
   "execution_count": null,
   "outputs": [],
   "source": [],
   "metadata": {
    "collapsed": false
   },
   "id": "85f408f1354676cd"
  }
 ],
 "metadata": {
  "kernelspec": {
   "display_name": "Python 3",
   "language": "python",
   "name": "python3"
  },
  "language_info": {
   "codemirror_mode": {
    "name": "ipython",
    "version": 2
   },
   "file_extension": ".py",
   "mimetype": "text/x-python",
   "name": "python",
   "nbconvert_exporter": "python",
   "pygments_lexer": "ipython2",
   "version": "2.7.6"
  }
 },
 "nbformat": 4,
 "nbformat_minor": 5
}
