{
 "cells": [
  {
   "cell_type": "code",
   "execution_count": 52,
   "id": "initial_id",
   "metadata": {
    "collapsed": true,
    "ExecuteTime": {
     "end_time": "2024-01-22T07:09:23.939825331Z",
     "start_time": "2024-01-22T07:09:23.935337752Z"
    }
   },
   "outputs": [],
   "source": [
    "import os\n",
    "import torch\n",
    "import torchvision\n",
    "import torch.nn as nn\n",
    "import torch.nn.functional as F\n",
    "from torchvision import transforms\n",
    "from torch.utils.data import DataLoader\n",
    "\n",
    "train_dir = os.path.join(\"data/train\")\n",
    "test_dir = os.path.join(\"data/test\")\n",
    "meta_file = os.path.join(\"meta.csv\")\n",
    "\n",
    "\n",
    "# 定义图像预处理\n",
    "transform = transforms.Compose([\n",
    "    transforms.Resize(218),\n",
    "    transforms.CenterCrop(218),\n",
    "    transforms.RandomHorizontalFlip(),\n",
    "    transforms.RandomVerticalFlip(),\n",
    "    transforms.ToTensor(),\n",
    "    # transforms.Normalize(mean=[0.485, 0.456, 0],std=[0.229, 0.224, 0.225])\n",
    "])\n",
    "\n",
    "\n",
    "\n",
    "# 加载训练集\n",
    "train_dataset = torchvision.datasets.ImageFolder(train_dir, transform=transform)\n",
    "\n",
    "# 加载测试集\n",
    "test_dataset = torchvision.datasets.ImageFolder(test_dir, transform=transform)\n",
    "\n",
    "# 加载类别标签\n",
    "with open(meta_file, \"r\") as f:\n",
    "    labels = [line.strip().split(\",\")[1] for line in f]\n"
   ]
  },
  {
   "cell_type": "code",
   "outputs": [
    {
     "name": "stdout",
     "output_type": "stream",
     "text": [
      "114\n"
     ]
    }
   ],
   "source": [
    "\n",
    "# 构建 ResNet50 模型\n",
    "model = torchvision.models.resnet101(pretrained=True)\n",
    "\n",
    "# 修改最后一层\n",
    "model.fc = nn.Linear(model.fc.in_features, len(labels))\n",
    "print(len(labels))\n",
    "train_loader = DataLoader(\n",
    "    train_dataset,      # Pass the training dataset\n",
    "    batch_size=15,  # Adjust batch size as needed\n",
    "    shuffle=True    # Shuffle the data for better training\n",
    ")\n",
    "\n",
    "test_loader = DataLoader(\n",
    "    test_dataset,      # Pass the training dataset\n",
    "    batch_size=15,  # Adjust batch size as needed\n",
    "    shuffle=True    # Shuffle the data for better training\n",
    ")\n"
   ],
   "metadata": {
    "collapsed": false,
    "ExecuteTime": {
     "end_time": "2024-01-22T07:09:27.944792717Z",
     "start_time": "2024-01-22T07:09:26.313745077Z"
    }
   },
   "id": "256c06dc1160c0d4",
   "execution_count": 53
  },
  {
   "cell_type": "code",
   "outputs": [
    {
     "name": "stdout",
     "output_type": "stream",
     "text": [
      "Epoch: 0 Loss: 1.8649\n",
      "Epoch: 1 Loss: 1.2805\n",
      "Epoch: 2 Loss: 1.0651\n",
      "Epoch: 3 Loss: 1.3846\n",
      "Epoch: 4 Loss: 0.9331\n",
      "Epoch: 5 Loss: 1.0693\n"
     ]
    }
   ],
   "source": [
    "# 定义损失函数和优化器\n",
    "criterion = torch.nn.CrossEntropyLoss()\n",
    "optimizer = torch.optim.Adam(model.parameters(), lr=0.001)\n",
    "\n",
    "# 训练模型\n",
    "epochs = 6\n",
    "\n",
    "for epoch in range(epochs):\n",
    "    # 训练\n",
    "    for i, (images, labels) in enumerate(train_loader):\n",
    "        # 前向传播\n",
    "        outputs = model(images)\n",
    "        # 计算损失\n",
    "        loss = criterion(outputs, labels)\n",
    "        # 反向传播\n",
    "        optimizer.zero_grad()\n",
    "        loss.backward()\n",
    "        optimizer.step()\n",
    "\n",
    "    # 打印训练信息\n",
    "    if epoch % 1 == 0:\n",
    "        print(\"Epoch: {} Loss: {:.4f}\".format(epoch, loss.item()))\n"
   ],
   "metadata": {
    "collapsed": false,
    "ExecuteTime": {
     "end_time": "2024-01-22T07:11:30.861069556Z",
     "start_time": "2024-01-22T07:09:44.127594663Z"
    }
   },
   "id": "af436aa05ab12d3a",
   "execution_count": 55
  },
  {
   "cell_type": "code",
   "outputs": [
    {
     "name": "stdout",
     "output_type": "stream",
     "text": [
      "Accuracy: 0.4167\n"
     ]
    }
   ],
   "source": [
    "# 测试模型\n",
    "correct = 0\n",
    "total = 0\n",
    "for images, labels in test_loader:\n",
    "    outputs = model(images)\n",
    "    _, predicted = torch.max(outputs.data, 1)\n",
    "    total += labels.size(0)\n",
    "    correct += (predicted == labels).sum().item()\n",
    "\n",
    "# 计算准确率\n",
    "accuracy = correct / total\n",
    "print(\"Accuracy: {:.4f}\".format(accuracy))\n"
   ],
   "metadata": {
    "collapsed": false,
    "ExecuteTime": {
     "end_time": "2024-01-22T07:11:35.125181420Z",
     "start_time": "2024-01-22T07:11:32.320517446Z"
    }
   },
   "id": "7db11e7235ffc6d3",
   "execution_count": 56
  },
  {
   "cell_type": "code",
   "outputs": [
    {
     "data": {
      "text/plain": "2"
     },
     "execution_count": 42,
     "metadata": {},
     "output_type": "execute_result"
    }
   ],
   "source": [],
   "metadata": {
    "collapsed": false,
    "ExecuteTime": {
     "end_time": "2024-01-22T06:42:54.747955234Z",
     "start_time": "2024-01-22T06:42:54.742949996Z"
    }
   },
   "id": "d102054fe8322802",
   "execution_count": 42
  },
  {
   "cell_type": "code",
   "outputs": [],
   "source": [],
   "metadata": {
    "collapsed": false
   },
   "id": "7c52b0c8898988c3"
  }
 ],
 "metadata": {
  "kernelspec": {
   "display_name": "Python 3",
   "language": "python",
   "name": "python3"
  },
  "language_info": {
   "codemirror_mode": {
    "name": "ipython",
    "version": 2
   },
   "file_extension": ".py",
   "mimetype": "text/x-python",
   "name": "python",
   "nbconvert_exporter": "python",
   "pygments_lexer": "ipython2",
   "version": "2.7.6"
  }
 },
 "nbformat": 4,
 "nbformat_minor": 5
}
